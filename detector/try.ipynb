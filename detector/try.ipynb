{
 "cells": [
  {
   "cell_type": "code",
   "execution_count": 1,
   "metadata": {},
   "outputs": [],
   "source": [
    "import joblib\n",
    "import re\n",
    "import string\n",
    "from nltk.stem import PorterStemmer\n",
    "import json\n",
    "import nltk"
   ]
  },
  {
   "cell_type": "code",
   "execution_count": 2,
   "metadata": {},
   "outputs": [],
   "source": [
    "# Text preprocessing\n",
    "def wordopt(text):\n",
    "    text = text.lower()\n",
    "    text = re.sub('https?://\\S+|www\\.\\S+', '', text)\n",
    "    text = re.sub('\\[.*?\\]', '', text)\n",
    "    text = re.sub(\"\\\\W\", \" \", text)\n",
    "    text = re.sub('<.*?>+', '', text)\n",
    "    text = re.sub('[%s]' % re.escape(string.punctuation), '', text)\n",
    "    text = re.sub('\\n', '', text)\n",
    "    text = re.sub('\\w*\\d\\w*', '', text)\n",
    "    return text\n",
    "\n",
    "ps = PorterStemmer()\n",
    "with open('resources/stopwords-tl.json', 'r') as f:\n",
    "    stopwords = json.load(f)\n",
    "\n",
    "def preprocess(text):\n",
    "    text = wordopt(text)\n",
    "    tokens = nltk.word_tokenize(text)\n",
    "    stems = [ps.stem(token) for token in tokens]\n",
    "    filtered = [stem for stem in stems if stem not in stopwords]\n",
    "    return filtered\n",
    "\n",
    "def predict(text):\n",
    "    processed = preprocess(text)\n",
    "\n",
    "    # Load vectorizer\n",
    "    vectorizer = joblib.load('resources/vectorizer_mlp.joblib')\n",
    "\n",
    "    # Transform the validation data using the same vectorizer\n",
    "    tfidf = vectorizer.transform(processed)\n",
    "\n",
    "    model = joblib.load('resources/stack_mlp.joblib')  # Update with your model path\n",
    "    # Make prediction using the loaded model\n",
    "    # prediction = model.predict_proba(tfidf)[0]  # Assuming binary prediction (0 or 1)\n",
    "    prediction = model.predict_proba(tfidf)[0]  # Assuming binary prediction (0 or 1)\n",
    "    value1 = prediction[0]  # Probability for class 0\n",
    "    value2 = prediction[1]  # Probability for class 1\n",
    "    return value1, value2"
   ]
  },
  {
   "cell_type": "code",
   "execution_count": 3,
   "metadata": {},
   "outputs": [
    {
     "name": "stdout",
     "output_type": "stream",
     "text": [
      "Probability for class 0: 0.9863001389733473\n",
      "Probability for class 1: 0.013699861026652606\n"
     ]
    }
   ],
   "source": [
    "input_text = 'Sapu kamuwang-muwang at ang napansin nga namin ang malakas na usok ay napupunta sa bata, makikita nantin sa surveilance iyan. Ibig sabihin ay talamak na talaga itong mag-asawan kontra-droga? Source: GMA News'\n",
    "# input_text = 'Humihiling ngayon ng tulong ang 12-years old brain cancer patient na si Jinn Sam sa mga taong may mabubuting puso at'\n",
    "value1, value2 = predict(input_text)\n",
    "\n",
    "\n",
    "# Now you can use value1 and value2 separately\n",
    "print(\"Probability for class 0:\", value1)\n",
    "print(\"Probability for class 1:\", value2)\n",
    "# Class 0 = False\n",
    "# Class 1 = True"
   ]
  },
  {
   "cell_type": "code",
   "execution_count": 4,
   "metadata": {},
   "outputs": [
    {
     "name": "stdout",
     "output_type": "stream",
     "text": [
      "Probability for class 0: 0.9925405159401599\n",
      "Probability for class 1: 0.007459484059840081\n"
     ]
    }
   ],
   "source": [
    "# input_text = 'Sapu kamuwang-muwang at ang napansin nga namin ang malakas na usok ay napupunta sa bata, makikita nantin sa surveilance iyan. Ibig sabihin ay talamak na talaga itong mag-asawan kontra-droga? Source: GMA News'\n",
    "input_text2 = 'Humihiling ngayon ng tulong ang 12-years old brain cancer patient na si Jinn Sam sa mga taong may mabubuting puso at'\n",
    "value1, value2 = predict(input_text2)\n",
    "\n",
    "\n",
    "# Now you can use value1 and value2 separately\n",
    "print(\"Probability for class 0:\", value1)\n",
    "print(\"Probability for class 1:\", value2)\n",
    "# Class 0 = False\n",
    "# Class 1 = True"
   ]
  },
  {
   "cell_type": "markdown",
   "metadata": {},
   "source": [
    "Instead of using a threshold, we will be using Weighted Decision.\n",
    "\n",
    "If value1 == value2 (which means 50:50), it will interpret as Fake News.\n",
    "\n",
    "Why?\n",
    "Class 0 (Fake Classe) is more important than the other. In the application, false negatives are more critical. A false negative occurs when the model fails to identify a piece of news as fake when it is indeed fake. This means the fake news goes undetected or is mistakenly classified as genuine.\n",
    "Reducing false negatives is crucial in fake news detection to ensure the effectiveness of the detection system"
   ]
  }
 ],
 "metadata": {
  "kernelspec": {
   "display_name": "Python 3",
   "language": "python",
   "name": "python3"
  },
  "language_info": {
   "codemirror_mode": {
    "name": "ipython",
    "version": 3
   },
   "file_extension": ".py",
   "mimetype": "text/x-python",
   "name": "python",
   "nbconvert_exporter": "python",
   "pygments_lexer": "ipython3",
   "version": "3.11.1"
  }
 },
 "nbformat": 4,
 "nbformat_minor": 2
}
