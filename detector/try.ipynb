{
 "cells": [
  {
   "cell_type": "code",
   "execution_count": 1,
   "metadata": {},
   "outputs": [],
   "source": [
    "import joblib\n",
    "import re\n",
    "import string\n",
    "from nltk.stem import PorterStemmer\n",
    "import json\n",
    "import nltk"
   ]
  },
  {
   "cell_type": "code",
   "execution_count": 6,
   "metadata": {},
   "outputs": [],
   "source": [
    "# Text preprocessing\n",
    "def wordopt(text):\n",
    "    text = text.lower()\n",
    "    text = re.sub('https?://\\S+|www\\.\\S+', '', text)\n",
    "    text = re.sub('\\[.*?\\]', '', text)\n",
    "    text = re.sub(\"\\\\W\", \" \", text)\n",
    "    text = re.sub('<.*?>+', '', text)\n",
    "    text = re.sub('[%s]' % re.escape(string.punctuation), '', text)\n",
    "    text = re.sub('\\n', '', text)\n",
    "    text = re.sub('\\w*\\d\\w*', '', text)\n",
    "    return text\n",
    "\n",
    "ps = PorterStemmer()\n",
    "with open('static/detector/models/stopwords-tl.json', 'r') as f:\n",
    "    stopwords = json.load(f)\n",
    "\n",
    "def preprocess(text):\n",
    "    text = wordopt(text)\n",
    "    tokens = nltk.word_tokenize(text)\n",
    "    stems = [ps.stem(token) for token in tokens]\n",
    "    filtered = [stem for stem in stems if stem not in stopwords]\n",
    "    return filtered\n",
    "\n",
    "def predict(text):\n",
    "    processed = preprocess(text)\n",
    "\n",
    "    # Load vectorizer\n",
    "    vectorizer = joblib.load('static/detector/models/vectorizer_mlp.joblib')\n",
    "\n",
    "    # Transform the validation data using the same vectorizer\n",
    "    tfidf = vectorizer.transform(processed)\n",
    "\n",
    "    model = joblib.load('static/detector/models/stack_mlp.joblib')  # Update with your model path\n",
    "    # Make prediction using the loaded model\n",
    "    # prediction = model.predict_proba(tfidf)[0]  # Assuming binary prediction (0 or 1)\n",
    "    prediction = model.predict_proba(tfidf)[0]  # Assuming binary prediction (0 or 1)\n",
    "    value1 = prediction[0]  # Probability for class 0\n",
    "    value2 = prediction[1]  # Probability for class 1\n",
    "    return prediction"
   ]
  },
  {
   "cell_type": "code",
   "execution_count": 8,
   "metadata": {},
   "outputs": [
    {
     "name": "stdout",
     "output_type": "stream",
     "text": [
      "[0.99544205 0.00455795]\n"
     ]
    }
   ],
   "source": [
    "input_text = \"\"\"Nitong Huwebes, Abril 11, inilabas ng Pulse Asia Research, Inc. ang resulta ng latest nilang survey para sa senatorial election. Pawang mga reelectionists ang top 3 sa kanilang listahan. Ayon sa resulta ng survey na isinagawa noong Marso 23 hanggang Marso 27, 2019 ay nangunguna sa listahan si Grace Poe na nakakuha ng 72. 6 percent voter preference. Sunod naman si Cynthia Villar na may 63.7 percent at pangatlo si Sonny Angara na may 58.5 percent. Tatlo naman sa mga pambato ni Pangulong Rodrigo Duterte ang nakapasok sa Top 12: sina Bong Go, Bato Dela Rosa, at Francis Tolentino na tumatakbo sa ilalim ng PDP-Laban. Nasa 1,800 katao na may gulang 18 pataas ang respondents sa survey. Kung pagbabatayan ang mga komento sa Pulse Asia Facebook post, marami ang natutuwa sa pagiging number 1 ni Poe. Ayon sa komento ng Facebook user na si L Chu, \"Sobrang deserve mo yan, karapat-dapat ka talaga sa pwestong yan dahil sa 'yong sipag at tiyaga na maglingkod sa mamamayan.\" Tinutukoy niya si Poe. \"Consistent pa rin talaga si Senator Poe! No doubt! She will be the no. 1 senator after election!,\" komento naman ni D Cruz. \"Be 'Grace Poe' in this world full of inconsistencies,\" sabi ni C Lovero. May mga negatibong komento naman hinggil sa pagiging no.1 ni Poe. \"Kunwari totoong survey...para lang ipasok si Grace Poe!!!\" komento ni A Bulls. \"Conflict of interest si PoeLse este Poe kasi correct me if I'm wrong kamag-anak niya may-ari o presidente ng Pulse Asia...\" komento ni M Lamponi. May gumamit din ng #TraPoe. Gayunman, may mga tumutul1gsa rin mismo sa survey at sinabing ito ay mind conditioning lamang. May kumuwestiyon din kung bakit walang Facebook survey ang Pulse Asia. May nagrekomenda pa nga na gawin ang survey sa Facebook. \"Sa FB kayo magsurvey para makasali naman kami dito sa HK at iba pang lugar sa labas ng Pinas. (Para) medyo makatotohanan ang resulta, 'di ba?\" komento ni R Rick. Samantala, sa isang press release ay nagpasalamat si Poe sa mga patuloy na sumusuporta sa kaniya. \"Taos-puso ang ating pasasalamat sa patuloy na tiwala ng ating mga kababayan. Ang kampanyang ito ay para sa kanila,\" pahayag ni Poe.\n",
    "\"\"\"\n",
    "# input_text = 'Humihiling ngayon ng tulong ang 12-years old brain cancer patient na si Jinn Sam sa mga taong may mabubuting puso at'\n",
    "print(predict(input_text))"
   ]
  },
  {
   "cell_type": "code",
   "execution_count": null,
   "metadata": {},
   "outputs": [],
   "source": [
    "input_text = 'Sapu kamuwang-muwang at ang napansin nga namin ang malakas na usok ay napupunta sa bata, makikita nantin sa surveilance iyan. Ibig sabihin ay talamak na talaga itong mag-asawan kontra-droga? Source: GMA News'\n",
    "# input_text = 'Humihiling ngayon ng tulong ang 12-years old brain cancer patient na si Jinn Sam sa mga taong may mabubuting puso at'\n",
    "value1, value2 = predict(input_text)\n",
    "\n",
    "\n",
    "# Now you can use value1 and value2 separately\n",
    "print(\"Probability for class 0:\", value1)\n",
    "print(\"Probability for class 1:\", value2)\n",
    "# Class 0 = False\n",
    "# Class 1 = True"
   ]
  },
  {
   "cell_type": "code",
   "execution_count": 4,
   "metadata": {},
   "outputs": [
    {
     "name": "stdout",
     "output_type": "stream",
     "text": [
      "Probability for class 0: 0.9925405159401599\n",
      "Probability for class 1: 0.007459484059840081\n"
     ]
    }
   ],
   "source": [
    "# input_text = 'Sapu kamuwang-muwang at ang napansin nga namin ang malakas na usok ay napupunta sa bata, makikita nantin sa surveilance iyan. Ibig sabihin ay talamak na talaga itong mag-asawan kontra-droga? Source: GMA News'\n",
    "input_text2 = 'Humihiling ngayon ng tulong ang 12-years old brain cancer patient na si Jinn Sam sa mga taong may mabubuting puso at'\n",
    "value1, value2 = predict(input_text2)\n",
    "\n",
    "\n",
    "# Now you can use value1 and value2 separately\n",
    "print(\"Probability for class 0:\", value1)\n",
    "print(\"Probability for class 1:\", value2)\n",
    "# Class 0 = False\n",
    "# Class 1 = True"
   ]
  },
  {
   "cell_type": "markdown",
   "metadata": {},
   "source": [
    "Instead of using a threshold, we will be using Weighted Decision.\n",
    "\n",
    "If value1 == value2 (which means 50:50), it will interpret as Fake News.\n",
    "\n",
    "Why?\n",
    "Class 0 (Fake Classe) is more important than the other. In the application, false negatives are more critical. A false negative occurs when the model fails to identify a piece of news as fake when it is indeed fake. This means the fake news goes undetected or is mistakenly classified as genuine.\n",
    "Reducing false negatives is crucial in fake news detection to ensure the effectiveness of the detection system"
   ]
  }
 ],
 "metadata": {
  "kernelspec": {
   "display_name": "Python 3",
   "language": "python",
   "name": "python3"
  },
  "language_info": {
   "codemirror_mode": {
    "name": "ipython",
    "version": 3
   },
   "file_extension": ".py",
   "mimetype": "text/x-python",
   "name": "python",
   "nbconvert_exporter": "python",
   "pygments_lexer": "ipython3",
   "version": "3.11.1"
  }
 },
 "nbformat": 4,
 "nbformat_minor": 2
}
