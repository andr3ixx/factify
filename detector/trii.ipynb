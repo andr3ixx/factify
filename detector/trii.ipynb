{
 "cells": [
  {
   "cell_type": "code",
   "execution_count": 3,
   "metadata": {},
   "outputs": [],
   "source": [
    "import joblib\n",
    "import re\n",
    "import string\n",
    "from nltk.stem import PorterStemmer\n",
    "import json\n",
    "import nltk"
   ]
  },
  {
   "cell_type": "code",
   "execution_count": 17,
   "metadata": {},
   "outputs": [],
   "source": [
    "# Text preprocessing\n",
    "def wordopt(text):\n",
    "    text = text.lower()\n",
    "    text = re.sub('https?://\\S+|www\\.\\S+', '', text)\n",
    "    text = re.sub('\\[.*?\\]', '', text)\n",
    "    text = re.sub(\"\\\\W\", \" \", text)\n",
    "    text = re.sub('<.*?>+', '', text)\n",
    "    text = re.sub('[%s]' % re.escape(string.punctuation), '', text)\n",
    "    text = re.sub('\\n', '', text)\n",
    "    text = re.sub('\\w*\\d\\w*', '', text)\n",
    "    return text\n",
    "\n",
    "ps = PorterStemmer()\n",
    "with open('static/detector/models/stopwords-tl.json', 'r') as f:\n",
    "    stopwords = json.load(f)\n",
    "\n",
    "def preprocess(text):\n",
    "    text = wordopt(text)\n",
    "    tokens = nltk.word_tokenize(text)\n",
    "    stems = [ps.stem(token) for token in tokens]\n",
    "    filtered = [stem for stem in stems if stem not in stopwords]\n",
    "    return filtered"
   ]
  },
  {
   "cell_type": "code",
   "execution_count": 11,
   "metadata": {},
   "outputs": [],
   "source": [
    "news = \"\"\"Ipina-deport pabalik sa China ang 167 mga Tsino na arestado sa isinagawang pagsalakay ng mga awtoridad sa isang POGO hub sa Bamban, Tarlac noong Marso.\n",
    "\n",
    "Sa ulat ni Bam Alegre sa Unang Balita nitong Martes, sinabing tinipon magdamag ng Presidential Anti-Organized Crime Commission (PAOCC) sa Pasay ang mahigit 100 na mga dayuhan na dinakip sa Zun Yuan Technology Inc. dahil sa pagkakasangkot umano sa mga ilegal na aktibidad online.\n",
    "\n",
    "Front ng mga Tsino ang pagiging POGO workers na mga scammer pala.\n",
    "\n",
    "Ayon kay Dr. Winston Casio, spokesperson ng PAOCC, nagpakilala ang mga Tsino na mga customer service representative, ngunit lumabas sa imbestigasyon na nagsasagawa sila ng mga investment scam, love scam at cryptocurrency scam.\n",
    "\n",
    "“Basically sa ilalim ng legal na POGO nagtatago ‘yung mga scamming activities ng Zun Yuan. Kaya lahat po ng mga itong ide-deport natin ay scammers po lahat itong mga ito,” sabi ni Casio.\n",
    "\n",
    "RELATED STORIES\n",
    "Paglalayag ng Pinoy civilian vessels sa WPS, tuloy sa kabila ng ulat na may mga Chinese vessel na haharang\n",
    "\n",
    "Senior citizen na suspek sa umano'y panggagahasa sa bata sa Misamis Occidental, arestado\n",
    "\n",
    "Kotse nahulog sa tulay sa CamSur; drayber patay, 5 pasahero sugatan\n",
    "\n",
    "Pasado 4 a.m. pa nang iproseso ang mga dayuhan ng mga taga-PAOCC, saka sila pinapila habang dala-dala ang kanilang mga maleta.\n",
    "\n",
    "Pinabalik ang mga Tsino sa Shanghai, China para harapin ang mga kasong isasampa sa kanila ng Shanghai Police Station.\n",
    "\n",
    "Sa Shanghai rin sila sasampahan ng kaso dahil naroon ang mga nagrereklamo para sa mga kasong cybercrime at internet fraud.\n",
    "\n",
    "Nakarating ang mga dayuhan sa NAIA Terminal 1 pasado 6 a.m. —Jamil Santos/VBL, GMA Integrated News\"\"\""
   ]
  },
  {
   "cell_type": "code",
   "execution_count": 18,
   "metadata": {},
   "outputs": [],
   "source": [
    "processed = preprocess(news)\n",
    "text = ' '.join(processed)\n",
    "\n",
    "vectorizer = joblib.load('static/detector/models/vectorizer_mlp.joblib')\n",
    "stack_model = joblib.load('static/detector/models/stack_mlp_4_954.joblib')\n",
    "\n"
   ]
  },
  {
   "cell_type": "code",
   "execution_count": 19,
   "metadata": {},
   "outputs": [
    {
     "name": "stdout",
     "output_type": "stream",
     "text": [
      "['ipina', 'deport', 'pabalik', 'china', 'tsino', 'arestado', 'isinagawang', 'pagsalakay', 'awtoridad', 'pogo', 'hub', 'bamban', 'tarlac', 'noong', 'marso', 'ulat', 'bam', 'alegr', 'unang', 'balita', 'nitong', 'mart', 'sinab', 'tinipon', 'magdamag', 'presidenti', 'anti', 'organ', 'crime', 'commiss', 'paocc', 'pasay', 'mahigit', 'dayuhan', 'dinakip', 'zun', 'yuan', 'technolog', 'inc', 'pagkakasangkot', 'umano', 'ileg', 'aktibidad', 'onlin', 'front', 'tsino', 'pagig', 'pogo', 'worker', 'scammer', 'pala', 'ayon', 'kay', 'dr', 'winston', 'casio', 'spokesperson', 'paocc', 'nagpakilala', 'tsino', 'custom', 'servic', 'repres', 'ngunit', 'lumaba', 'imbestigasyon', 'nagsasagawa', 'invest', 'scam', 'love', 'scam', 'cryptocurr', 'scam', 'basic', 'legal', 'pogo', 'nagtatago', 'yung', 'scam', 'activ', 'zun', 'yuan', 'po', 'itong', 'ide', 'deport', 'natin', 'scammer', 'po', 'itong', 'casio', 'relat', 'stori', 'paglalayag', 'pinoy', 'civilian', 'vessel', 'wp', 'tuloy', 'kabila', 'ulat', 'chines', 'vessel', 'haharang', 'senior', 'citizen', 'suspek', 'umano', 'y', 'panggagahasa', 'bata', 'misami', 'occident', 'arestado', 'kots', 'nahulog', 'tulay', 'camsur', 'drayber', 'patay', 'pasahero', 'sugatan', 'pasado', 'a', 'm', 'nang', 'iproseso', 'dayuhan', 'taga', 'paocc', 'saka', 'pinapila', 'dala', 'dala', 'maleta', 'pinabalik', 'tsino', 'shanghai', 'china', 'harapin', 'kasong', 'isasampa', 'shanghai', 'polic', 'station', 'shanghai', 'rin', 'sasampahan', 'kaso', 'naroon', 'nagrereklamo', 'kasong', 'cybercrim', 'internet', 'fraud', 'nakar', 'dayuhan', 'naia', 'termin', 'pasado', 'a', 'm', 'jamil', 'santo', 'vbl', 'gma', 'integr', 'news']\n"
     ]
    }
   ],
   "source": [
    "print(processed)"
   ]
  },
  {
   "cell_type": "code",
   "execution_count": 20,
   "metadata": {},
   "outputs": [
    {
     "name": "stdout",
     "output_type": "stream",
     "text": [
      "ipina deport pabalik china tsino arestado isinagawang pagsalakay awtoridad pogo hub bamban tarlac noong marso ulat bam alegr unang balita nitong mart sinab tinipon magdamag presidenti anti organ crime commiss paocc pasay mahigit dayuhan dinakip zun yuan technolog inc pagkakasangkot umano ileg aktibidad onlin front tsino pagig pogo worker scammer pala ayon kay dr winston casio spokesperson paocc nagpakilala tsino custom servic repres ngunit lumaba imbestigasyon nagsasagawa invest scam love scam cryptocurr scam basic legal pogo nagtatago yung scam activ zun yuan po itong ide deport natin scammer po itong casio relat stori paglalayag pinoy civilian vessel wp tuloy kabila ulat chines vessel haharang senior citizen suspek umano y panggagahasa bata misami occident arestado kots nahulog tulay camsur drayber patay pasahero sugatan pasado a m nang iproseso dayuhan taga paocc saka pinapila dala dala maleta pinabalik tsino shanghai china harapin kasong isasampa shanghai polic station shanghai rin sasampahan kaso naroon nagrereklamo kasong cybercrim internet fraud nakar dayuhan naia termin pasado a m jamil santo vbl gma integr news\n"
     ]
    }
   ],
   "source": [
    "print(text)"
   ]
  },
  {
   "cell_type": "code",
   "execution_count": 21,
   "metadata": {},
   "outputs": [
    {
     "name": "stdout",
     "output_type": "stream",
     "text": [
      "[[0.07828134 0.92171866]]\n"
     ]
    }
   ],
   "source": [
    "tfidf = vectorizer.transform([text])\n",
    "prediction = stack_model.predict_proba(tfidf)\n",
    "print(prediction)\n"
   ]
  }
 ],
 "metadata": {
  "kernelspec": {
   "display_name": "Python 3",
   "language": "python",
   "name": "python3"
  },
  "language_info": {
   "codemirror_mode": {
    "name": "ipython",
    "version": 3
   },
   "file_extension": ".py",
   "mimetype": "text/x-python",
   "name": "python",
   "nbconvert_exporter": "python",
   "pygments_lexer": "ipython3",
   "version": "3.11.1"
  }
 },
 "nbformat": 4,
 "nbformat_minor": 2
}
