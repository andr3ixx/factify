{
 "cells": [
  {
   "cell_type": "code",
   "execution_count": 13,
   "metadata": {},
   "outputs": [],
   "source": [
    "import pandas as pd\n",
    "import re\n",
    "import string\n",
    "import nltk\n",
    "from nltk.stem import PorterStemmer\n",
    "import joblib\n",
    "import json\n",
    "\n",
    "# Text preprocessing\n",
    "def wordopt(text):\n",
    "    text = text.lower()\n",
    "    text = re.sub('https?://\\S+|www\\.\\S+', '', text)\n",
    "    text = re.sub('\\[.*?\\]', '', text)\n",
    "    text = re.sub(\"\\\\W\", \" \", text)\n",
    "    text = re.sub('<.*?>+', '', text)\n",
    "    text = re.sub('[%s]' % re.escape(string.punctuation), '', text)\n",
    "    text = re.sub('\\n', '', text)\n",
    "    text = re.sub('\\w*\\d\\w*', '', text)\n",
    "    return text\n",
    "\n",
    "ps = PorterStemmer()\n",
    "with open('static/detector/models/stopwords-tl.json', 'r') as f:\n",
    "    stopwords = json.load(f)\n",
    "\n",
    "def preprocess(text):\n",
    "    text = wordopt(text)\n",
    "    tokens = nltk.word_tokenize(text)\n",
    "    stems = [ps.stem(token) for token in tokens]\n",
    "    filtered = [stem for stem in stems if stem not in stopwords]\n",
    "    return filtered\n",
    "\n",
    "# Load the trained TF-IDF vectorizer and MLP model\n",
    "vectorizer = joblib.load('static/detector/models/vectorizer_mlp.joblib')\n",
    "model = joblib.load('static/detector/models/stack_mlp.joblib')\n",
    "\n",
    "# Function to predict the label for a given text\n",
    "def predict(text):\n",
    "    processed = preprocess(text)\n",
    "    text_processed = ' '.join(processed)\n",
    "    tfidf = vectorizer.transform([text_processed])  # Note that transform expects a list of documents\n",
    "    proba = model.predict_proba(tfidf)\n",
    "    prediction = 1 if proba[0][1] > proba[0][0] else 0\n",
    "    return prediction\n",
    "\n"
   ]
  },
  {
   "cell_type": "code",
   "execution_count": 15,
   "metadata": {},
   "outputs": [
    {
     "name": "stdout",
     "output_type": "stream",
     "text": [
      "Predictions added and saved to new CSV file.\n"
     ]
    }
   ],
   "source": [
    "# Load the CSV file\n",
    "df = pd.read_csv('static/detector/datasets/train_data.csv')\n",
    "\n",
    "# Apply the prediction function to each row\n",
    "df['prediction'] = df['article'].apply(predict)\n",
    "\n",
    "# Reorder columns to place 'label' first, then 'prediction', and 'article' last\n",
    "df = df[['label', 'prediction', 'article']]\n",
    "\n",
    "# Save the updated DataFrame to a new CSV file\n",
    "df.to_csv('static/detector/datasets/train_data_prediksyon.csv', index=False)\n",
    "\n",
    "print(\"Predictions added and saved to new CSV file.\")"
   ]
  }
 ],
 "metadata": {
  "kernelspec": {
   "display_name": "Python 3",
   "language": "python",
   "name": "python3"
  },
  "language_info": {
   "codemirror_mode": {
    "name": "ipython",
    "version": 3
   },
   "file_extension": ".py",
   "mimetype": "text/x-python",
   "name": "python",
   "nbconvert_exporter": "python",
   "pygments_lexer": "ipython3",
   "version": "3.11.1"
  }
 },
 "nbformat": 4,
 "nbformat_minor": 2
}
